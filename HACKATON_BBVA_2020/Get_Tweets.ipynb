{
 "cells": [
  {
   "cell_type": "markdown",
   "metadata": {},
   "source": [
    "# Victor Manuel Gómez Espinosa"
   ]
  },
  {
   "cell_type": "markdown",
   "metadata": {},
   "source": [
    "# authentication"
   ]
  },
  {
   "cell_type": "code",
   "execution_count": 1,
   "metadata": {},
   "outputs": [],
   "source": [
    "# Import package\n",
    "import tweepy\n",
    "import json\n",
    "# Import package\n",
    "import pandas as pd\n",
    "import datetime\n",
    "#victor \n",
    "# Store OAuth authentication credentials in relevant variables\n",
    "access_token = \n",
    "access_token_secret = \n",
    "consumer_key = \n",
    "consumer_secret = \n",
    "\n",
    "# Pass OAuth details to tweepy's OAuth handler\n",
    "auth = tweepy.OAuthHandler(consumer_key, consumer_secret)\n",
    "auth.set_access_token(access_token,access_token_secret)\n"
   ]
  },
  {
   "cell_type": "markdown",
   "metadata": {},
   "source": [
    "# Twitter to DataFrame"
   ]
  },
  {
   "cell_type": "code",
   "execution_count": 2,
   "metadata": {},
   "outputs": [],
   "source": [
    "#obtiene los textos de 100 tweets para la palabra clave un dia antes en español\n",
    "def get_tweets(auth,searchTerms,untilDate,noOfSeearch=100, lang='es'):\n",
    "    texts=[]\n",
    "    dates=[]\n",
    "    api=tweepy.API(auth)\n",
    "    tweets=tweepy.Cursor(api.search, q=(searchTerms), until = str(untilDate),lang=lang,truncated=False).items(noOfSeearch)\n",
    "    for tweet in tweets:\n",
    "        text=tweet.text\n",
    "        texts.append(text)\n",
    "        date=tweet.created_at\n",
    "        dates.append(date)\n",
    "    df=pd.DataFrame({searchTerms: texts})\n",
    "    df.index=dates\n",
    "    return df"
   ]
  },
  {
   "cell_type": "code",
   "execution_count": 3,
   "metadata": {},
   "outputs": [],
   "source": [
    "#obtiene los tweets para cada banco\n",
    "today=datetime.date.today()\n",
    "bancos=['@BBVA_Mex','@SantanderMx', '@Citibanamex', '@Banorte_mx','@HSBC_MX','@ScotiabankMX','@BancoInbursa','@BancoAzteca']\n",
    "bbva=get_tweets(auth,bancos[0],today)\n",
    "santander=get_tweets(auth,bancos[1],today)\n",
    "citibanamex=get_tweets(auth,bancos[2],today)\n",
    "banorte=get_tweets(auth,bancos[3],today)\n",
    "hsbc=get_tweets(auth,bancos[4],today)\n",
    "scotiabank=get_tweets(auth,bancos[5],today)\n",
    "inbursa=get_tweets(auth,bancos[6],today)\n",
    "azteca=get_tweets(auth,bancos[7],today)\n",
    "    \n",
    "\n"
   ]
  },
  {
   "cell_type": "code",
   "execution_count": 4,
   "metadata": {},
   "outputs": [],
   "source": [
    "i=15\n",
    "date='2020-10-'\n",
    "datei=date+str(i)\n",
    "#guarda como csv los tweets\n",
    "bbva.to_csv('bbva/bbva_'+datei+'.csv')\n",
    "santander.to_csv('santander/santander_'+datei+'.csv')\n",
    "citibanamex.to_csv('citibanamex/citibanamex_'+datei+'.csv')\n",
    "banorte.to_csv('banorte/banorte_'+datei+'.csv')\n",
    "hsbc.to_csv('hsbc/hsbc_'+datei+'.csv')\n",
    "scotiabank.to_csv('scotiabank/scotiabank_'+datei+'.csv')\n",
    "inbursa.to_csv('inbursa/inbursa_'+datei+'.csv')\n",
    "azteca.to_csv('azteca/azteca_'+datei+'.csv')"
   ]
  },
  {
   "cell_type": "code",
   "execution_count": null,
   "metadata": {},
   "outputs": [],
   "source": []
  }
 ],
 "metadata": {
  "kernelspec": {
   "display_name": "Python 3",
   "language": "python",
   "name": "python3"
  },
  "language_info": {
   "codemirror_mode": {
    "name": "ipython",
    "version": 3
   },
   "file_extension": ".py",
   "mimetype": "text/x-python",
   "name": "python",
   "nbconvert_exporter": "python",
   "pygments_lexer": "ipython3",
   "version": "3.8.3"
  }
 },
 "nbformat": 4,
 "nbformat_minor": 2
}
