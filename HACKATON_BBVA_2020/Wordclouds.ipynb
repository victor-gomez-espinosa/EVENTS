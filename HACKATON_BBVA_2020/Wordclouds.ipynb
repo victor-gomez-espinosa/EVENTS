{
 "cells": [
  {
   "cell_type": "markdown",
   "metadata": {},
   "source": [
    "# Victor Manuel Gómez Espinosa"
   ]
  },
  {
   "cell_type": "code",
   "execution_count": 102,
   "metadata": {},
   "outputs": [],
   "source": [
    "#librerias\n",
    "import pandas as pd\n",
    "import seaborn as sns\n",
    "import matplotlib.pyplot as plt\n",
    "import plotly.express as px\n",
    "import numpy as np\n",
    "from microtc.textmodel import TextModel"
   ]
  },
  {
   "cell_type": "markdown",
   "metadata": {},
   "source": [
    "# Datos"
   ]
  },
  {
   "cell_type": "code",
   "execution_count": 103,
   "metadata": {},
   "outputs": [
    {
     "data": {
      "text/html": [
       "<div>\n",
       "<style scoped>\n",
       "    .dataframe tbody tr th:only-of-type {\n",
       "        vertical-align: middle;\n",
       "    }\n",
       "\n",
       "    .dataframe tbody tr th {\n",
       "        vertical-align: top;\n",
       "    }\n",
       "\n",
       "    .dataframe thead th {\n",
       "        text-align: right;\n",
       "    }\n",
       "</style>\n",
       "<table border=\"1\" class=\"dataframe\">\n",
       "  <thead>\n",
       "    <tr style=\"text-align: right;\">\n",
       "      <th></th>\n",
       "      <th>tweets</th>\n",
       "      <th>banks</th>\n",
       "      <th>sentiment</th>\n",
       "      <th>topics</th>\n",
       "    </tr>\n",
       "  </thead>\n",
       "  <tbody>\n",
       "    <tr>\n",
       "      <th>0</th>\n",
       "      <td>@BancoAzteca Buenas noches, acabo de salir de ...</td>\n",
       "      <td>azteca</td>\n",
       "      <td>NEU</td>\n",
       "      <td>productos</td>\n",
       "    </tr>\n",
       "    <tr>\n",
       "      <th>1</th>\n",
       "      <td>@BancoAzteca mi solicitud ya fue realizada la ...</td>\n",
       "      <td>azteca</td>\n",
       "      <td>NEU</td>\n",
       "      <td>productos</td>\n",
       "    </tr>\n",
       "    <tr>\n",
       "      <th>2</th>\n",
       "      <td>RT @LideresMexicano: Este 5 de octubre a las 2...</td>\n",
       "      <td>azteca</td>\n",
       "      <td>NEU</td>\n",
       "      <td>seguridad</td>\n",
       "    </tr>\n",
       "    <tr>\n",
       "      <th>3</th>\n",
       "      <td>RT @killer_queenbb: Mi día va genial \\n@Facebo...</td>\n",
       "      <td>azteca</td>\n",
       "      <td>P</td>\n",
       "      <td>productos</td>\n",
       "    </tr>\n",
       "    <tr>\n",
       "      <th>4</th>\n",
       "      <td>Este 5 de octubre a las 20:30hrs lanzamos el p...</td>\n",
       "      <td>azteca</td>\n",
       "      <td>NEU</td>\n",
       "      <td>seguridad</td>\n",
       "    </tr>\n",
       "    <tr>\n",
       "      <th>5</th>\n",
       "      <td>Conoce los casos de éxito de nuestros oradores...</td>\n",
       "      <td>azteca</td>\n",
       "      <td>NEU</td>\n",
       "      <td>digital</td>\n",
       "    </tr>\n",
       "    <tr>\n",
       "      <th>6</th>\n",
       "      <td>RT @Efraincl83_MX: #Síguemeytesigo señor @Rica...</td>\n",
       "      <td>azteca</td>\n",
       "      <td>N</td>\n",
       "      <td>atn_cliente</td>\n",
       "    </tr>\n",
       "    <tr>\n",
       "      <th>7</th>\n",
       "      <td>#Síguemeytesigo señor @RicardoBSalinas que lam...</td>\n",
       "      <td>azteca</td>\n",
       "      <td>N</td>\n",
       "      <td>atn_cliente</td>\n",
       "    </tr>\n",
       "    <tr>\n",
       "      <th>8</th>\n",
       "      <td>En nuestra mesa de discusión, hablamos sobre l...</td>\n",
       "      <td>azteca</td>\n",
       "      <td>NEU</td>\n",
       "      <td>seguridad</td>\n",
       "    </tr>\n",
       "    <tr>\n",
       "      <th>9</th>\n",
       "      <td>RT @MareaVerdeMex: ⚠️#ServicioSocialFeminista ...</td>\n",
       "      <td>azteca</td>\n",
       "      <td>NEU</td>\n",
       "      <td>seguridad</td>\n",
       "    </tr>\n",
       "  </tbody>\n",
       "</table>\n",
       "</div>"
      ],
      "text/plain": [
       "                                              tweets   banks sentiment  \\\n",
       "0  @BancoAzteca Buenas noches, acabo de salir de ...  azteca       NEU   \n",
       "1  @BancoAzteca mi solicitud ya fue realizada la ...  azteca       NEU   \n",
       "2  RT @LideresMexicano: Este 5 de octubre a las 2...  azteca       NEU   \n",
       "3  RT @killer_queenbb: Mi día va genial \\n@Facebo...  azteca         P   \n",
       "4  Este 5 de octubre a las 20:30hrs lanzamos el p...  azteca       NEU   \n",
       "5  Conoce los casos de éxito de nuestros oradores...  azteca       NEU   \n",
       "6  RT @Efraincl83_MX: #Síguemeytesigo señor @Rica...  azteca         N   \n",
       "7  #Síguemeytesigo señor @RicardoBSalinas que lam...  azteca         N   \n",
       "8  En nuestra mesa de discusión, hablamos sobre l...  azteca       NEU   \n",
       "9  RT @MareaVerdeMex: ⚠️#ServicioSocialFeminista ...  azteca       NEU   \n",
       "\n",
       "        topics  \n",
       "0    productos  \n",
       "1    productos  \n",
       "2    seguridad  \n",
       "3    productos  \n",
       "4    seguridad  \n",
       "5      digital  \n",
       "6  atn_cliente  \n",
       "7  atn_cliente  \n",
       "8    seguridad  \n",
       "9    seguridad  "
      ]
     },
     "execution_count": 103,
     "metadata": {},
     "output_type": "execute_result"
    }
   ],
   "source": [
    "#leer datos\n",
    "df=pd.read_csv('results.csv',index_col=0)\n",
    "df.head(10)"
   ]
  },
  {
   "cell_type": "code",
   "execution_count": 137,
   "metadata": {},
   "outputs": [
    {
     "data": {
      "text/plain": [
       "array(['productos', 'seguridad', 'digital', 'atn_cliente', 'sucursal'],\n",
       "      dtype=object)"
      ]
     },
     "execution_count": 137,
     "metadata": {},
     "output_type": "execute_result"
    }
   ],
   "source": [
    "top=df.topics.unique()\n",
    "top"
   ]
  },
  {
   "cell_type": "markdown",
   "metadata": {},
   "source": [
    "# WordCloud"
   ]
  },
  {
   "cell_type": "markdown",
   "metadata": {},
   "source": [
    "https://www.datacamp.com/community/tutorials/wordcloud-python"
   ]
  },
  {
   "cell_type": "code",
   "execution_count": 126,
   "metadata": {},
   "outputs": [
    {
     "name": "stderr",
     "output_type": "stream",
     "text": [
      "[nltk_data] Downloading package stopwords to\n",
      "[nltk_data]     C:\\Users\\seema\\AppData\\Roaming\\nltk_data...\n",
      "[nltk_data]   Package stopwords is already up-to-date!\n"
     ]
    }
   ],
   "source": [
    "from wordcloud import WordCloud, STOPWORDS\n",
    "import nltk\n",
    "nltk.download('stopwords')\n",
    "from nltk.corpus import stopwords\n",
    "stopSpanish=set(stopwords.words('spanish'))\n",
    "\n",
    "def remueveStop(texto):\n",
    "    tm = TextModel()\n",
    "    palabras=tm.tokenize(texto)\n",
    "    temp=[]\n",
    "    for pal in palabras:\n",
    "        if pal not in stopSpanish:\n",
    "            temp.append(pal)\n",
    "            temp.append(\" \")\n",
    "    \n",
    "    return \"\".join(temp)\n",
    "#\n",
    "def WordCloudImg(Corpus,name,maxword=5,l=[]):\n",
    "    #procesando los documentos\n",
    "    corpus_TextsPr=[]\n",
    "    for fTr in Corpus:\n",
    "        docProcTr= remueveStop(fTr)\n",
    "        corpus_TextsPr.append(docProcTr)\n",
    "    #junta todos los textos\n",
    "    prep = \" \".join(review for review in corpus_TextsPr)\n",
    "    my_stopwords=set(STOPWORDS)\n",
    "    my_stopwords.update(l)\n",
    "    my_stopwords.update(['_neg','_usr','rt','_neu','htps','_neg_neg','htps_neg','_pos','co','s_num','_pos_neu','_neu_neu','_pos_pos','ma','banco','num','_num','teamsam','mas','tardes', 'si', 'ano','dia','hola','hoy','bva','quiero'])\n",
    "    my_stopwords.update(stopSpanish)\n",
    "    cloudtxt=WordCloud(background_color='white',stopwords=my_stopwords, max_words=maxword).generate(prep)\n",
    "    plt.imshow(cloudtxt,interpolation='bilinear')\n",
    "    plt.title('Área de oportunidad por segmento: '+name)\n",
    "    plt.axis('off')\n",
    "    plt.show()\n",
    "    cloudtxt.to_file(name+\".png\")"
   ]
  },
  {
   "cell_type": "code",
   "execution_count": 150,
   "metadata": {},
   "outputs": [
    {
     "data": {
      "image/png": "[encoded data removed]",
      "text/plain": [
       "<Figure size 432x288 with 1 Axes>"
      ]
     },
     "metadata": {
      "needs_background": "light"
     },
     "output_type": "display_data"
    }
   ],
   "source": [
    "i=4\n",
    "filtered=df[df.sentiment=='N']\n",
    "filtered=filtered[filtered.banks=='bbva']\n",
    "filtered=filtered[filtered.topics==top[0]]\n",
    "#filtered=filtered[filtered.banks=='bbva']\n",
    "filtered.shape\n",
    "Corpus=filtered['tweets'].values #textos\n",
    "WordCloudImg(Corpus,top[i],10,l=['puedo','hacer','pueden','levo','necesito','hace','hicieron','puede'])"
   ]
  },
  {
   "cell_type": "code",
   "execution_count": null,
   "metadata": {},
   "outputs": [],
   "source": []
  }
 ],
 "metadata": {
  "kernelspec": {
   "display_name": "Python 3",
   "language": "python",
   "name": "python3"
  },
  "language_info": {
   "codemirror_mode": {
    "name": "ipython",
    "version": 3
   },
   "file_extension": ".py",
   "mimetype": "text/x-python",
   "name": "python",
   "nbconvert_exporter": "python",
   "pygments_lexer": "ipython3",
   "version": "3.8.3"
  }
 },
 "nbformat": 4,
 "nbformat_minor": 4
}
