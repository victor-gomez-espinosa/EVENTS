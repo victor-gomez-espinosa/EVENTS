{
 "cells": [
  {
   "cell_type": "markdown",
   "metadata": {},
   "source": [
    "# Victor Manuel Gómez Espinosa"
   ]
  },
  {
   "cell_type": "code",
   "execution_count": 7,
   "metadata": {},
   "outputs": [],
   "source": [
    "#librerias\n",
    "import numpy as np\n",
    "import pandas as pd\n",
    "from microtc.textmodel import TextModel\n",
    "from sklearn.decomposition import KernelPCA\n",
    "import seaborn as sns\n",
    "import matplotlib.pyplot as plt\n",
    "import plotly.express as px"
   ]
  },
  {
   "cell_type": "markdown",
   "metadata": {},
   "source": [
    "# Datos"
   ]
  },
  {
   "cell_type": "code",
   "execution_count": 9,
   "metadata": {},
   "outputs": [
    {
     "data": {
      "text/html": [
       "<div>\n",
       "<style scoped>\n",
       "    .dataframe tbody tr th:only-of-type {\n",
       "        vertical-align: middle;\n",
       "    }\n",
       "\n",
       "    .dataframe tbody tr th {\n",
       "        vertical-align: top;\n",
       "    }\n",
       "\n",
       "    .dataframe thead th {\n",
       "        text-align: right;\n",
       "    }\n",
       "</style>\n",
       "<table border=\"1\" class=\"dataframe\">\n",
       "  <thead>\n",
       "    <tr style=\"text-align: right;\">\n",
       "      <th></th>\n",
       "      <th>tweets</th>\n",
       "      <th>banks</th>\n",
       "      <th>sentiment</th>\n",
       "      <th>topics</th>\n",
       "    </tr>\n",
       "  </thead>\n",
       "  <tbody>\n",
       "    <tr>\n",
       "      <th>0</th>\n",
       "      <td>@BancoAzteca Buenas noches, acabo de salir de ...</td>\n",
       "      <td>azteca</td>\n",
       "      <td>NEU</td>\n",
       "      <td>productos</td>\n",
       "    </tr>\n",
       "    <tr>\n",
       "      <th>1</th>\n",
       "      <td>@BancoAzteca mi solicitud ya fue realizada la ...</td>\n",
       "      <td>azteca</td>\n",
       "      <td>NEU</td>\n",
       "      <td>productos</td>\n",
       "    </tr>\n",
       "    <tr>\n",
       "      <th>2</th>\n",
       "      <td>RT @LideresMexicano: Este 5 de octubre a las 2...</td>\n",
       "      <td>azteca</td>\n",
       "      <td>NEU</td>\n",
       "      <td>seguridad</td>\n",
       "    </tr>\n",
       "    <tr>\n",
       "      <th>3</th>\n",
       "      <td>RT @killer_queenbb: Mi día va genial \\n@Facebo...</td>\n",
       "      <td>azteca</td>\n",
       "      <td>P</td>\n",
       "      <td>productos</td>\n",
       "    </tr>\n",
       "    <tr>\n",
       "      <th>4</th>\n",
       "      <td>Este 5 de octubre a las 20:30hrs lanzamos el p...</td>\n",
       "      <td>azteca</td>\n",
       "      <td>NEU</td>\n",
       "      <td>seguridad</td>\n",
       "    </tr>\n",
       "  </tbody>\n",
       "</table>\n",
       "</div>"
      ],
      "text/plain": [
       "                                              tweets   banks sentiment  \\\n",
       "0  @BancoAzteca Buenas noches, acabo de salir de ...  azteca       NEU   \n",
       "1  @BancoAzteca mi solicitud ya fue realizada la ...  azteca       NEU   \n",
       "2  RT @LideresMexicano: Este 5 de octubre a las 2...  azteca       NEU   \n",
       "3  RT @killer_queenbb: Mi día va genial \\n@Facebo...  azteca         P   \n",
       "4  Este 5 de octubre a las 20:30hrs lanzamos el p...  azteca       NEU   \n",
       "\n",
       "      topics  \n",
       "0  productos  \n",
       "1  productos  \n",
       "2  seguridad  \n",
       "3  productos  \n",
       "4  seguridad  "
      ]
     },
     "execution_count": 9,
     "metadata": {},
     "output_type": "execute_result"
    }
   ],
   "source": [
    "df=pd.read_csv('results.csv', index_col=0)\n",
    "df.head()"
   ]
  },
  {
   "cell_type": "code",
   "execution_count": 59,
   "metadata": {},
   "outputs": [],
   "source": [
    "neg_dat=df[df.sentiment=='N']"
   ]
  },
  {
   "cell_type": "code",
   "execution_count": 63,
   "metadata": {},
   "outputs": [
    {
     "data": {
      "text/html": [
       "<div>\n",
       "<style scoped>\n",
       "    .dataframe tbody tr th:only-of-type {\n",
       "        vertical-align: middle;\n",
       "    }\n",
       "\n",
       "    .dataframe tbody tr th {\n",
       "        vertical-align: top;\n",
       "    }\n",
       "\n",
       "    .dataframe thead th {\n",
       "        text-align: right;\n",
       "    }\n",
       "</style>\n",
       "<table border=\"1\" class=\"dataframe\">\n",
       "  <thead>\n",
       "    <tr style=\"text-align: right;\">\n",
       "      <th>topics</th>\n",
       "      <th>atn_cliente</th>\n",
       "      <th>digital</th>\n",
       "      <th>productos</th>\n",
       "      <th>seguridad</th>\n",
       "      <th>sucursal</th>\n",
       "    </tr>\n",
       "    <tr>\n",
       "      <th>banks</th>\n",
       "      <th></th>\n",
       "      <th></th>\n",
       "      <th></th>\n",
       "      <th></th>\n",
       "      <th></th>\n",
       "    </tr>\n",
       "  </thead>\n",
       "  <tbody>\n",
       "    <tr>\n",
       "      <th>azteca</th>\n",
       "      <td>14</td>\n",
       "      <td>106</td>\n",
       "      <td>48</td>\n",
       "      <td>32</td>\n",
       "      <td>7</td>\n",
       "    </tr>\n",
       "    <tr>\n",
       "      <th>banorte</th>\n",
       "      <td>49</td>\n",
       "      <td>148</td>\n",
       "      <td>81</td>\n",
       "      <td>35</td>\n",
       "      <td>13</td>\n",
       "    </tr>\n",
       "    <tr>\n",
       "      <th>bbva</th>\n",
       "      <td>29</td>\n",
       "      <td>263</td>\n",
       "      <td>97</td>\n",
       "      <td>32</td>\n",
       "      <td>5</td>\n",
       "    </tr>\n",
       "    <tr>\n",
       "      <th>citibanamex</th>\n",
       "      <td>70</td>\n",
       "      <td>161</td>\n",
       "      <td>146</td>\n",
       "      <td>49</td>\n",
       "      <td>22</td>\n",
       "    </tr>\n",
       "    <tr>\n",
       "      <th>hsbc</th>\n",
       "      <td>41</td>\n",
       "      <td>145</td>\n",
       "      <td>122</td>\n",
       "      <td>57</td>\n",
       "      <td>19</td>\n",
       "    </tr>\n",
       "    <tr>\n",
       "      <th>inbursa</th>\n",
       "      <td>7</td>\n",
       "      <td>44</td>\n",
       "      <td>25</td>\n",
       "      <td>21</td>\n",
       "      <td>4</td>\n",
       "    </tr>\n",
       "    <tr>\n",
       "      <th>santander</th>\n",
       "      <td>67</td>\n",
       "      <td>124</td>\n",
       "      <td>90</td>\n",
       "      <td>54</td>\n",
       "      <td>30</td>\n",
       "    </tr>\n",
       "    <tr>\n",
       "      <th>scotiabank</th>\n",
       "      <td>31</td>\n",
       "      <td>71</td>\n",
       "      <td>74</td>\n",
       "      <td>23</td>\n",
       "      <td>5</td>\n",
       "    </tr>\n",
       "  </tbody>\n",
       "</table>\n",
       "</div>"
      ],
      "text/plain": [
       "topics       atn_cliente  digital  productos  seguridad  sucursal\n",
       "banks                                                            \n",
       "azteca                14      106         48         32         7\n",
       "banorte               49      148         81         35        13\n",
       "bbva                  29      263         97         32         5\n",
       "citibanamex           70      161        146         49        22\n",
       "hsbc                  41      145        122         57        19\n",
       "inbursa                7       44         25         21         4\n",
       "santander             67      124         90         54        30\n",
       "scotiabank            31       71         74         23         5"
      ]
     },
     "execution_count": 63,
     "metadata": {},
     "output_type": "execute_result"
    }
   ],
   "source": [
    "nct=pd.crosstab(neg_dat.banks,neg_dat.topics)\n",
    "nct"
   ]
  },
  {
   "cell_type": "code",
   "execution_count": 64,
   "metadata": {},
   "outputs": [],
   "source": [
    "import prince"
   ]
  },
  {
   "cell_type": "code",
   "execution_count": 65,
   "metadata": {},
   "outputs": [],
   "source": [
    "ca=prince.CA(n_components=2,check_input=True,engine='auto',random_state=42)\n",
    "ca=ca.fit(nct)"
   ]
  },
  {
   "cell_type": "code",
   "execution_count": 91,
   "metadata": {},
   "outputs": [],
   "source": [
    "y=ca.row_coordinates(nct) #bancos\n",
    "y.to_csv('rows_topics.csv')\n"
   ]
  },
  {
   "cell_type": "code",
   "execution_count": 92,
   "metadata": {},
   "outputs": [],
   "source": [
    "z=ca.column_coordinates(nct) #topicos\n",
    "z.to_csv('columns_topics.csv')"
   ]
  },
  {
   "cell_type": "code",
   "execution_count": 68,
   "metadata": {},
   "outputs": [
    {
     "data": {
      "image/png": "[encoded data removed]",
      "text/plain": [
       "<Figure size 720x720 with 1 Axes>"
      ]
     },
     "metadata": {
      "needs_background": "light"
     },
     "output_type": "display_data"
    }
   ],
   "source": [
    "ax=ca.plot_coordinates(X=nct, figsize=(10,10), x_component=0, y_component=1, show_row_labels=True, show_col_labels=True)\n"
   ]
  },
  {
   "cell_type": "markdown",
   "metadata": {},
   "source": [
    "eje horizontal hacia la derecha digital, izquierda sucursal.\n",
    "eje vertical: productos y atencion al cliente hacia abajo, arriba seguridad.\n",
    "\n",
    "bbva quejas digital y atn cliente y productos"
   ]
  },
  {
   "cell_type": "code",
   "execution_count": 70,
   "metadata": {},
   "outputs": [
    {
     "data": {
      "text/plain": [
       "0.064339900955385"
      ]
     },
     "execution_count": 70,
     "metadata": {},
     "output_type": "execute_result"
    }
   ],
   "source": [
    "ca.total_inertia_ "
   ]
  },
  {
   "cell_type": "code",
   "execution_count": 73,
   "metadata": {},
   "outputs": [],
   "source": [
    "from scipy import stats\n",
    "def escala(x): #puntuaciones\n",
    "    y=(x-min(x))*10/(max(x)-min(x))\n",
    "    return(y)\n",
    "\n",
    "def independenciaCA(df,alpha=0.05): #independencia entre filas y columnas (True)\n",
    "    I,J=df.shape\n",
    "    fisher_tab=df.values\n",
    "    n=np.sum(fisher_tab)\n",
    "    P=fisher_tab/n\n",
    "    r = np.sum(P,1)\n",
    "    c = np.sum(P,0)\n",
    "    \n",
    "    vc=stats.chi2.ppf(1-alpha, (I-1)*(J-1))\n",
    "    ren=0\n",
    "    for i in range(I):\n",
    "        col=0\n",
    "        for j in range(J):\n",
    "            col=col+(((P[i,j]/r[i])-c[j])**2)*(1/c[j])\n",
    "        ren=ren+r[i]*col\n",
    "\n",
    "    vt=n*ren\n",
    "    return(vt<=vc,(vt,vc))"
   ]
  },
  {
   "cell_type": "code",
   "execution_count": 74,
   "metadata": {},
   "outputs": [
    {
     "data": {
      "text/plain": [
       "(False, (158.34049625120244, 41.33713815142739))"
      ]
     },
     "execution_count": 74,
     "metadata": {},
     "output_type": "execute_result"
    }
   ],
   "source": [
    "independenciaCA(nct) #False, el tipo de quejas depende del tipo de banco"
   ]
  },
  {
   "cell_type": "code",
   "execution_count": 77,
   "metadata": {},
   "outputs": [
    {
     "data": {
      "text/plain": [
       "array([ 1.91273581, 10.        ,  5.02361199,  4.49670087,  0.        ])"
      ]
     },
     "execution_count": 77,
     "metadata": {},
     "output_type": "execute_result"
    }
   ],
   "source": [
    "topicos=z.values\n",
    "topicos=topicos[:,0]\n",
    "topicos=escala(topicos)\n",
    "topicos"
   ]
  },
  {
   "cell_type": "code",
   "execution_count": 78,
   "metadata": {},
   "outputs": [
    {
     "data": {
      "text/plain": [
       "array([ 6.83393577,  4.24713653, 10.        ,  1.73103293,  2.77258107,\n",
       "        4.75847196,  0.        ,  2.10006579])"
      ]
     },
     "execution_count": 78,
     "metadata": {},
     "output_type": "execute_result"
    }
   ],
   "source": [
    "bancos=y.values\n",
    "bancos=bancos[:,0]\n",
    "bancos=escala(bancos)\n",
    "bancos"
   ]
  },
  {
   "cell_type": "code",
   "execution_count": 82,
   "metadata": {},
   "outputs": [
    {
     "data": {
      "text/html": [
       "<div>\n",
       "<style scoped>\n",
       "    .dataframe tbody tr th:only-of-type {\n",
       "        vertical-align: middle;\n",
       "    }\n",
       "\n",
       "    .dataframe tbody tr th {\n",
       "        vertical-align: top;\n",
       "    }\n",
       "\n",
       "    .dataframe thead th {\n",
       "        text-align: right;\n",
       "    }\n",
       "</style>\n",
       "<table border=\"1\" class=\"dataframe\">\n",
       "  <thead>\n",
       "    <tr style=\"text-align: right;\">\n",
       "      <th></th>\n",
       "      <th>banks</th>\n",
       "      <th>scores</th>\n",
       "    </tr>\n",
       "  </thead>\n",
       "  <tbody>\n",
       "    <tr>\n",
       "      <th>2</th>\n",
       "      <td>bbva</td>\n",
       "      <td>10.000000</td>\n",
       "    </tr>\n",
       "    <tr>\n",
       "      <th>0</th>\n",
       "      <td>azteca</td>\n",
       "      <td>6.833936</td>\n",
       "    </tr>\n",
       "    <tr>\n",
       "      <th>5</th>\n",
       "      <td>inbursa</td>\n",
       "      <td>4.758472</td>\n",
       "    </tr>\n",
       "    <tr>\n",
       "      <th>1</th>\n",
       "      <td>banorte</td>\n",
       "      <td>4.247137</td>\n",
       "    </tr>\n",
       "    <tr>\n",
       "      <th>4</th>\n",
       "      <td>hsbc</td>\n",
       "      <td>2.772581</td>\n",
       "    </tr>\n",
       "    <tr>\n",
       "      <th>7</th>\n",
       "      <td>scotiabank</td>\n",
       "      <td>2.100066</td>\n",
       "    </tr>\n",
       "    <tr>\n",
       "      <th>3</th>\n",
       "      <td>citibanamex</td>\n",
       "      <td>1.731033</td>\n",
       "    </tr>\n",
       "    <tr>\n",
       "      <th>6</th>\n",
       "      <td>santander</td>\n",
       "      <td>0.000000</td>\n",
       "    </tr>\n",
       "  </tbody>\n",
       "</table>\n",
       "</div>"
      ],
      "text/plain": [
       "         banks     scores\n",
       "2         bbva  10.000000\n",
       "0       azteca   6.833936\n",
       "5      inbursa   4.758472\n",
       "1      banorte   4.247137\n",
       "4         hsbc   2.772581\n",
       "7   scotiabank   2.100066\n",
       "3  citibanamex   1.731033\n",
       "6    santander   0.000000"
      ]
     },
     "execution_count": 82,
     "metadata": {},
     "output_type": "execute_result"
    }
   ],
   "source": [
    "bnks=nct.index\n",
    "scores=bancos\n",
    "\n",
    "quejas=pd.DataFrame({'banks':bnks,\n",
    "                    'scores': scores})\n",
    "\n",
    "quejas.sort_values(by=['scores'], ascending=False).head(10)"
   ]
  },
  {
   "cell_type": "code",
   "execution_count": 83,
   "metadata": {},
   "outputs": [
    {
     "data": {
      "text/html": [
       "<div>\n",
       "<style scoped>\n",
       "    .dataframe tbody tr th:only-of-type {\n",
       "        vertical-align: middle;\n",
       "    }\n",
       "\n",
       "    .dataframe tbody tr th {\n",
       "        vertical-align: top;\n",
       "    }\n",
       "\n",
       "    .dataframe thead th {\n",
       "        text-align: right;\n",
       "    }\n",
       "</style>\n",
       "<table border=\"1\" class=\"dataframe\">\n",
       "  <thead>\n",
       "    <tr style=\"text-align: right;\">\n",
       "      <th></th>\n",
       "      <th>banks</th>\n",
       "      <th>scores</th>\n",
       "    </tr>\n",
       "  </thead>\n",
       "  <tbody>\n",
       "    <tr>\n",
       "      <th>1</th>\n",
       "      <td>digital</td>\n",
       "      <td>10.000000</td>\n",
       "    </tr>\n",
       "    <tr>\n",
       "      <th>2</th>\n",
       "      <td>productos</td>\n",
       "      <td>5.023612</td>\n",
       "    </tr>\n",
       "    <tr>\n",
       "      <th>3</th>\n",
       "      <td>seguridad</td>\n",
       "      <td>4.496701</td>\n",
       "    </tr>\n",
       "    <tr>\n",
       "      <th>0</th>\n",
       "      <td>atn_cliente</td>\n",
       "      <td>1.912736</td>\n",
       "    </tr>\n",
       "    <tr>\n",
       "      <th>4</th>\n",
       "      <td>sucursal</td>\n",
       "      <td>0.000000</td>\n",
       "    </tr>\n",
       "  </tbody>\n",
       "</table>\n",
       "</div>"
      ],
      "text/plain": [
       "         banks     scores\n",
       "1      digital  10.000000\n",
       "2    productos   5.023612\n",
       "3    seguridad   4.496701\n",
       "0  atn_cliente   1.912736\n",
       "4     sucursal   0.000000"
      ]
     },
     "execution_count": 83,
     "metadata": {},
     "output_type": "execute_result"
    }
   ],
   "source": [
    "bnks=nct.columns\n",
    "scores=topicos\n",
    "\n",
    "quejas=pd.DataFrame({'banks':bnks,\n",
    "                    'scores': scores})\n",
    "\n",
    "quejas.sort_values(by=['scores'], ascending=False).head(10)"
   ]
  },
  {
   "cell_type": "code",
   "execution_count": 84,
   "metadata": {},
   "outputs": [
    {
     "data": {
      "text/html": [
       "<div>\n",
       "<style scoped>\n",
       "    .dataframe tbody tr th:only-of-type {\n",
       "        vertical-align: middle;\n",
       "    }\n",
       "\n",
       "    .dataframe tbody tr th {\n",
       "        vertical-align: top;\n",
       "    }\n",
       "\n",
       "    .dataframe thead th {\n",
       "        text-align: right;\n",
       "    }\n",
       "</style>\n",
       "<table border=\"1\" class=\"dataframe\">\n",
       "  <thead>\n",
       "    <tr style=\"text-align: right;\">\n",
       "      <th>sentiment</th>\n",
       "      <th>N</th>\n",
       "      <th>NEU</th>\n",
       "      <th>P</th>\n",
       "    </tr>\n",
       "    <tr>\n",
       "      <th>banks</th>\n",
       "      <th></th>\n",
       "      <th></th>\n",
       "      <th></th>\n",
       "    </tr>\n",
       "  </thead>\n",
       "  <tbody>\n",
       "    <tr>\n",
       "      <th>azteca</th>\n",
       "      <td>207</td>\n",
       "      <td>576</td>\n",
       "      <td>88</td>\n",
       "    </tr>\n",
       "    <tr>\n",
       "      <th>banorte</th>\n",
       "      <td>326</td>\n",
       "      <td>618</td>\n",
       "      <td>87</td>\n",
       "    </tr>\n",
       "    <tr>\n",
       "      <th>bbva</th>\n",
       "      <td>426</td>\n",
       "      <td>801</td>\n",
       "      <td>91</td>\n",
       "    </tr>\n",
       "    <tr>\n",
       "      <th>citibanamex</th>\n",
       "      <td>448</td>\n",
       "      <td>662</td>\n",
       "      <td>77</td>\n",
       "    </tr>\n",
       "    <tr>\n",
       "      <th>hsbc</th>\n",
       "      <td>384</td>\n",
       "      <td>536</td>\n",
       "      <td>68</td>\n",
       "    </tr>\n",
       "    <tr>\n",
       "      <th>inbursa</th>\n",
       "      <td>101</td>\n",
       "      <td>183</td>\n",
       "      <td>12</td>\n",
       "    </tr>\n",
       "    <tr>\n",
       "      <th>santander</th>\n",
       "      <td>365</td>\n",
       "      <td>631</td>\n",
       "      <td>48</td>\n",
       "    </tr>\n",
       "    <tr>\n",
       "      <th>scotiabank</th>\n",
       "      <td>204</td>\n",
       "      <td>333</td>\n",
       "      <td>35</td>\n",
       "    </tr>\n",
       "  </tbody>\n",
       "</table>\n",
       "</div>"
      ],
      "text/plain": [
       "sentiment      N  NEU   P\n",
       "banks                    \n",
       "azteca       207  576  88\n",
       "banorte      326  618  87\n",
       "bbva         426  801  91\n",
       "citibanamex  448  662  77\n",
       "hsbc         384  536  68\n",
       "inbursa      101  183  12\n",
       "santander    365  631  48\n",
       "scotiabank   204  333  35"
      ]
     },
     "execution_count": 84,
     "metadata": {},
     "output_type": "execute_result"
    }
   ],
   "source": [
    "stm=pd.crosstab(mds_dataset.banks,mds_dataset.sentiment)\n",
    "stm"
   ]
  },
  {
   "cell_type": "code",
   "execution_count": 85,
   "metadata": {},
   "outputs": [],
   "source": [
    "ca2=prince.CA(n_components=2,check_input=True,engine='auto',random_state=42)\n",
    "ca2=ca2.fit(stm)"
   ]
  },
  {
   "cell_type": "code",
   "execution_count": 93,
   "metadata": {},
   "outputs": [],
   "source": [
    "y2=ca2.row_coordinates(stm) #bancos\n",
    "y2.to_csv('rows_sentiment.csv')"
   ]
  },
  {
   "cell_type": "code",
   "execution_count": 94,
   "metadata": {},
   "outputs": [],
   "source": [
    "z2=ca2.column_coordinates(stm) #topicos\n",
    "z2.to_csv('columns_sentiment.csv')"
   ]
  },
  {
   "cell_type": "code",
   "execution_count": 89,
   "metadata": {},
   "outputs": [
    {
     "data": {
      "image/png": "[encoded data removed]",
      "text/plain": [
       "<Figure size 720x720 with 1 Axes>"
      ]
     },
     "metadata": {
      "needs_background": "light"
     },
     "output_type": "display_data"
    }
   ],
   "source": [
    "ax=ca2.plot_coordinates(X=stm, figsize=(10,10), x_component=0, y_component=1, show_row_labels=True, show_col_labels=True)\n"
   ]
  },
  {
   "cell_type": "markdown",
   "metadata": {},
   "source": [
    "Analisis de correspondencia (CA)\n",
    "\n",
    "eje horizontal a la derecha sentimiento positivo, izquierda sentimiento negativo.\n",
    "\n",
    "bbva mas cargado al sentimiento neutro."
   ]
  },
  {
   "cell_type": "code",
   "execution_count": 90,
   "metadata": {},
   "outputs": [
    {
     "data": {
      "text/plain": [
       "(False, (85.78968331508673, 23.684791304840576))"
      ]
     },
     "execution_count": 90,
     "metadata": {},
     "output_type": "execute_result"
    }
   ],
   "source": [
    "independenciaCA(stm) #False, el tipo de sentimiento depende del tipo de banco"
   ]
  }
 ],
 "metadata": {
  "kernelspec": {
   "display_name": "Python 3",
   "language": "python",
   "name": "python3"
  },
  "language_info": {
   "codemirror_mode": {
    "name": "ipython",
    "version": 3
   },
   "file_extension": ".py",
   "mimetype": "text/x-python",
   "name": "python",
   "nbconvert_exporter": "python",
   "pygments_lexer": "ipython3",
   "version": "3.8.3"
  }
 },
 "nbformat": 4,
 "nbformat_minor": 4
}
